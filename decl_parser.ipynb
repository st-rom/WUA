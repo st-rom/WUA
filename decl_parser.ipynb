{
 "cells": [
  {
   "cell_type": "code",
   "execution_count": 1,
   "metadata": {},
   "outputs": [],
   "source": [
    "import tabula \n",
    "import pandas as pd\n",
    "from tika import parser\n",
    "import os\n",
    "import copy\n",
    "import urllib"
   ]
  },
  {
   "cell_type": "code",
   "execution_count": 2,
   "metadata": {},
   "outputs": [],
   "source": [
    "def parsing_table(file, df_all1, df_all2, df_all3, dai):  \n",
    "#     if not os.path.isfile(file):\n",
    "    try:\n",
    "        raw = parser.from_file(file)\n",
    "#     except urllib.error.HTTPError:\n",
    "    except FileNotFoundError:\n",
    "        skipped.append(dai)\n",
    "        return df_all1, df_all2, df_all3\n",
    "    if raw['status'] == 200 and raw['content'] is not None and len(raw['content'].strip().split()) > 200 and raw['content'].strip().split()[4] == '№' and raw['content'].strip().split()[5][0] == 'D':\n",
    "        df = tabula.read_pdf(file, pages=1, spreadsheet=True, pandas_options={'header': None}, multiple_tables=True)\n",
    "        if type(df) == list and len(df) == 2:\n",
    "            df[0]['decl_num'] = raw['content'].strip().split()[5]\n",
    "            df[1]['decl_num'] = raw['content'].strip().split()[5]\n",
    "        else:\n",
    "            print('akusi', dai)\n",
    "        if df_all1 is None:\n",
    "            df_all1 = df[0]\n",
    "            df_all2 = df[1]\n",
    "        else:\n",
    "            df_all1 = pd.concat([df_all1, df[0]], ignore_index=True)\n",
    "            df_all2 = pd.concat([df_all2, df[1]], ignore_index=True)\n",
    "        df = tabula.read_pdf(file, pages=2, spreadsheet=True, pandas_options={'header': None}, multiple_tables=True)\n",
    "        if type(df) == list and len(df) >= 1:\n",
    "            df = [j for j in df if type(j) == pd.core.frame.DataFrame and j.shape != (1, 1)][0]\n",
    "        for i in range(3, int(raw['metadata']['xmpTPg:NPages']) + 1):\n",
    "            f2 = tabula.read_pdf(file,\n",
    "                         pages=i, pandas_options={'header': None}, spreadsheet=True, multiple_tables=True)\n",
    "            if type(f2) == list and len(f2) >= 1:\n",
    "                f2 = [j for j in f2 if type(j) == pd.core.frame.DataFrame and j.shape != (1, 1)][0]\n",
    "            if type(f2) != list:\n",
    "                df = pd.concat([df, f2], ignore_index=True)\n",
    "        df['decl_num'] = raw['content'].strip().split()[5]\n",
    "        if df_all3 is None:\n",
    "            df_all3 = df\n",
    "        else:\n",
    "            df_all3 = pd.concat([df_all3, df], ignore_index=True)\n",
    "    return df_all1, df_all2, df_all3"
   ]
  },
  {
   "cell_type": "code",
   "execution_count": 3,
   "metadata": {},
   "outputs": [],
   "source": [
    "def data_cleaning(dat1, dat2, dat3):\n",
    "#     print(path_to, file_num, 2)\n",
    "    dat3 = dat3.loc[(dat3[2].isnull() == False) & (dat3[4].isnull() == False) & (dat3[2] != '3' ) & (dat3[4] != 'Клас\\rнебезпеки')]\n",
    "    for i in range(12):\n",
    "        dat3[i] = dat3[i].apply(lambda x: str(x).replace('\\r', ' '))\n",
    "    dat3.columns = ['No','trash_name','code','alter_name','class','storage','value',\n",
    "                                 'value_prediction','destination','value_destination','operation','operation_desc', 'decl_num']\n",
    "\n",
    "    dat1[0] = dat1[0].apply(lambda x: str(x).replace('\\r', ' '))\n",
    "    dat1[1] = dat1[1].apply(lambda x: str(x).replace('\\r', ' '))\n",
    "    \n",
    "    print(dat2[dat2[0].isnull()][dat2[dat2[0].isnull()][5] != '(x1)'], \"AAAAAAAAAAAAAAAAAAAAAAAAAAAAA\")\n",
    "    for i in range(6):\n",
    "        dat2[i] = dat2[i].apply(lambda x: str(x).replace('\\r', ' '))\n",
    "    dat2 = dat2.loc[(dat2[0] != 'Період утворення відходів') & (dat2[5] != '(x1)')]\n",
    "    dat2.columns = ['waste_creation_time','index_gen_wastes','amount_I','amount_II', 'amount_III', 'amount_IV', 'decl_num']\n",
    "    return dat1, dat2, dat3"
   ]
  },
  {
   "cell_type": "code",
   "execution_count": 4,
   "metadata": {},
   "outputs": [],
   "source": [
    "def data_saving(datas, file_num):\n",
    "    datas[0], datas[1], datas[2] = data_cleaning(datas[0], datas[1], datas[2])\n",
    "    for j in range(3):\n",
    "        datas[j].to_csv(path_to + files[j] + str(file_num) + \".csv\", sep=';', index=False)\n",
    "#     file_num += 1000\n",
    "#         if not os.path.isfile(path_to + files[j]):\n",
    "#             datas[j].to_csv(path_to + files[j], sep=';', index=False)\n",
    "#         else:\n",
    "#             with open(path_to + files[j], 'a') as f:\n",
    "#                 datas[j].to_csv(path_to + files[j], sep=';', index=False, header=False)\n",
    "    return [None, None, None]"
   ]
  },
  {
   "cell_type": "code",
   "execution_count": null,
   "metadata": {},
   "outputs": [],
   "source": [
    "datas = [None, None, None]\n",
    "# path_from = 'https://e-eco.gov.ua/parlor/applications/viewfile/id/'\n",
    "path_from = './declarations/'\n",
    "path_to = \"./dec/data/d2/\"\n",
    "file_num = 42000\n",
    "files = [\"F\", \"S\", \"T\"]\n",
    "skipped = []\n",
    "min_range = 41001\n",
    "max_range = 43001\n",
    "\n",
    "for i in range(min_range, max_range):\n",
    "    if i % 100 == 0:\n",
    "        print('--', i)\n",
    "    datas[0], datas[1], datas[2] = parsing_table(path_from + str(i), datas[0], datas[1], datas[2], i)\n",
    "    if i % 1000 == 0:\n",
    "        datas = data_saving(datas, file_num)\n",
    "        file_num += 1000\n",
    "        \n",
    "datas = data_saving(datas, 0)"
   ]
  },
  {
   "cell_type": "code",
   "execution_count": null,
   "metadata": {},
   "outputs": [],
   "source": [
    "#join files into one csv file\n",
    "for f in files:\n",
    "    data1 = pd.read_csv(\"./dec/data/d2/\" + f + \"1000.csv\", sep=';')\n",
    "    for i in range(2000,43000,1000):\n",
    "        data2 = pd.read_csv(\"./dec/data/d2/\" + f + str(i) + \".csv\", sep=';')\n",
    "        data1 = pd.concat([data1,data2], ignore_index=True)\n",
    "    if f == 'F':\n",
    "        data1.to_csv(\"./dec/data/fulls/Declarations_first_table.csv\", sep=';', index=False)\n",
    "    elif f == 'S':\n",
    "        data1.to_csv(\"./dec/data/fulls/Declarations_second_table.csv\", sep=';', index=False)\n",
    "    elif f == 'T':\n",
    "        data1.to_csv(\"./dec/data/fulls/Declarations_third_table.csv\", sep=';', index=False)"
   ]
  },
  {
   "cell_type": "code",
   "execution_count": null,
   "metadata": {},
   "outputs": [],
   "source": []
  }
 ],
 "metadata": {
  "kernelspec": {
   "display_name": "Python 3",
   "language": "python",
   "name": "python3"
  },
  "language_info": {
   "codemirror_mode": {
    "name": "ipython",
    "version": 3
   },
   "file_extension": ".py",
   "mimetype": "text/x-python",
   "name": "python",
   "nbconvert_exporter": "python",
   "pygments_lexer": "ipython3",
   "version": "3.7.1"
  }
 },
 "nbformat": 4,
 "nbformat_minor": 2
}

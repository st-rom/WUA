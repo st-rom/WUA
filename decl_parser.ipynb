{
 "cells": [
  {
   "cell_type": "code",
   "execution_count": 5,
   "metadata": {},
   "outputs": [],
   "source": [
    "import tabula \n",
    "import pandas as pd\n",
    "from tika import parser\n",
    "import os\n",
    "import copy\n",
    "import urllib"
   ]
  },
  {
   "cell_type": "code",
   "execution_count": 6,
   "metadata": {},
   "outputs": [],
   "source": [
    "def parsing_table(file, df_all1, df_all2, df_all3, dai):  \n",
    "#     if not os.path.isfile(file):\n",
    "    try:\n",
    "        raw = parser.from_file(file)\n",
    "#     except urllib.error.HTTPError:\n",
    "    except FileNotFoundError:\n",
    "        skipped.append(dai)\n",
    "        return df_all1, df_all2, df_all3\n",
    "    if raw['status'] == 200 and raw['content'] is not None and len(raw['content'].strip().split()) > 200 and raw['content'].strip().split()[4] == '№' and raw['content'].strip().split()[5][0] == 'D':\n",
    "        df = tabula.read_pdf(file, pages=1, spreadsheet=True, pandas_options={'header': None}, multiple_tables=True)\n",
    "        if type(df) == list and len(df) == 2:\n",
    "            df[0]['decl_num'] = raw['content'].strip().split()[5]\n",
    "            df[1]['decl_num'] = raw['content'].strip().split()[5]\n",
    "        else:\n",
    "            print('akusi', dai)\n",
    "        if df_all1 is None:\n",
    "            df_all1 = df[0]\n",
    "            df_all2 = df[1]\n",
    "        else:\n",
    "            df_all1 = pd.concat([df_all1, df[0]], ignore_index=True)\n",
    "            df_all2 = pd.concat([df_all2, df[1]], ignore_index=True)\n",
    "        df = tabula.read_pdf(file, pages=2, spreadsheet=True, pandas_options={'header': None}, multiple_tables=True)\n",
    "        if type(df) == list and len(df) >= 1:\n",
    "            df = [j for j in df if type(j) == pd.core.frame.DataFrame and j.shape != (1, 1)][0]\n",
    "        for i in range(3, int(raw['metadata']['xmpTPg:NPages']) + 1):\n",
    "            f2 = tabula.read_pdf(file,\n",
    "                         pages=i, pandas_options={'header': None}, spreadsheet=True, multiple_tables=True)\n",
    "            if type(f2) == list and len(f2) >= 1:\n",
    "                f2 = [j for j in f2 if type(j) == pd.core.frame.DataFrame and j.shape != (1, 1)][0]\n",
    "            if type(f2) != list:\n",
    "                df = pd.concat([df, f2], ignore_index=True)\n",
    "        df['decl_num'] = raw['content'].strip().split()[5]\n",
    "        if df_all3 is None:\n",
    "            df_all3 = df\n",
    "        else:\n",
    "            df_all3 = pd.concat([df_all3, df], ignore_index=True)\n",
    "    return df_all1, df_all2, df_all3"
   ]
  },
  {
   "cell_type": "code",
   "execution_count": 7,
   "metadata": {},
   "outputs": [],
   "source": [
    "def data_cleaning(dat1, dat2, dat3):\n",
    "#     print(path_to, file_num, 2)\n",
    "    dat3 = dat3.loc[(dat3[2].isnull() == False) & (dat3[4].isnull() == False) & (dat3[2] != '3' ) & (dat3[4] != 'Клас\\rнебезпеки')]\n",
    "    for i in range(12):\n",
    "        dat3[i] = dat3[i].apply(lambda x: str(x).replace('\\r', ' '))\n",
    "    dat3.columns = ['No','trash_name','code','alter_name','class','storage','value',\n",
    "                                 'value_prediction','destination','value_destination','operation','operation_desc', 'decl_num']\n",
    "\n",
    "    dat1[0] = dat1[0].apply(lambda x: str(x).replace('\\r', ' '))\n",
    "    dat1[1] = dat1[1].apply(lambda x: str(x).replace('\\r', ' '))\n",
    "    \n",
    "    print(dat2[dat2[0].isnull()][dat2[dat2[0].isnull()][5] != '(x1)'], \"AAAAAAAAAAAAAAAAAAAAAAAAAAAAA\")\n",
    "    for i in range(6):\n",
    "        dat2[i] = dat2[i].apply(lambda x: str(x).replace('\\r', ' '))\n",
    "    dat2 = dat2.loc[(dat2[0] != 'Період утворення відходів') & (dat2[5] != '(x1)')]\n",
    "    dat2.columns = ['waste_creation_time','index_gen_wastes','amount_I','amount_II', 'amount_III', 'amount_IV', 'decl_num']\n",
    "    return dat1, dat2, dat3"
   ]
  },
  {
   "cell_type": "code",
   "execution_count": 8,
   "metadata": {},
   "outputs": [],
   "source": [
    "def data_saving(datas, file_num):\n",
    "    datas[0], datas[1], datas[2] = data_cleaning(datas[0], datas[1], datas[2])\n",
    "    for j in range(3):\n",
    "        datas[j].to_csv(path_to + files[j] + str(file_num) + \".csv\", sep=';', index=False)\n",
    "#     file_num += 1000\n",
    "#         if not os.path.isfile(path_to + files[j]):\n",
    "#             datas[j].to_csv(path_to + files[j], sep=';', index=False)\n",
    "#         else:\n",
    "#             with open(path_to + files[j], 'a') as f:\n",
    "#                 datas[j].to_csv(path_to + files[j], sep=';', index=False, header=False)\n",
    "    return [None, None, None]"
   ]
  },
  {
   "cell_type": "code",
   "execution_count": 9,
   "metadata": {},
   "outputs": [
    {
     "name": "stderr",
     "output_type": "stream",
     "text": [
      "2019-05-02 14:29:59,911 [MainThread  ] [INFO ]  Retrieving http://search.maven.org/remotecontent?filepath=org/apache/tika/tika-server/1.19/tika-server-1.19.jar to /tmp/tika-server.jar.\n",
      "2019-05-02 14:30:51,503 [MainThread  ] [INFO ]  Retrieving http://search.maven.org/remotecontent?filepath=org/apache/tika/tika-server/1.19/tika-server-1.19.jar.md5 to /tmp/tika-server.jar.md5.\n",
      "2019-05-02 14:30:52,218 [MainThread  ] [WARNI]  Failed to see startup log message; retrying...\n"
     ]
    },
    {
     "name": "stdout",
     "output_type": "stream",
     "text": [
      "-- 40100\n",
      "-- 40200\n",
      "-- 40300\n",
      "-- 40400\n",
      "-- 40500\n",
      "-- 40600\n",
      "-- 40700\n",
      "-- 40800\n",
      "-- 40900\n",
      "-- 41000\n"
     ]
    },
    {
     "name": "stderr",
     "output_type": "stream",
     "text": [
      "/home/roman/anaconda3/lib/python3.7/site-packages/ipykernel_launcher.py:5: SettingWithCopyWarning: \n",
      "A value is trying to be set on a copy of a slice from a DataFrame.\n",
      "Try using .loc[row_indexer,col_indexer] = value instead\n",
      "\n",
      "See the caveats in the documentation: http://pandas.pydata.org/pandas-docs/stable/indexing.html#indexing-view-versus-copy\n",
      "  \"\"\"\n"
     ]
    },
    {
     "name": "stdout",
     "output_type": "stream",
     "text": [
      "Empty DataFrame\n",
      "Columns: [0, 1, 2, 3, 4, 5, decl_num]\n",
      "Index: [] AAAAAAAAAAAAAAAAAAAAAAAAAAAAA\n",
      "-- 41100\n",
      "-- 41200\n",
      "-- 41300\n",
      "-- 41400\n",
      "-- 41500\n",
      "-- 41600\n",
      "-- 41700\n",
      "-- 41800\n",
      "-- 41900\n",
      "-- 42000\n"
     ]
    },
    {
     "name": "stderr",
     "output_type": "stream",
     "text": [
      "/home/roman/anaconda3/lib/python3.7/site-packages/ipykernel_launcher.py:5: SettingWithCopyWarning: \n",
      "A value is trying to be set on a copy of a slice from a DataFrame.\n",
      "Try using .loc[row_indexer,col_indexer] = value instead\n",
      "\n",
      "See the caveats in the documentation: http://pandas.pydata.org/pandas-docs/stable/indexing.html#indexing-view-versus-copy\n",
      "  \"\"\"\n"
     ]
    },
    {
     "name": "stdout",
     "output_type": "stream",
     "text": [
      "Empty DataFrame\n",
      "Columns: [0, 1, 2, 3, 4, 5, decl_num]\n",
      "Index: [] AAAAAAAAAAAAAAAAAAAAAAAAAAAAA\n"
     ]
    },
    {
     "ename": "AttributeError",
     "evalue": "'NoneType' object has no attribute 'loc'",
     "output_type": "error",
     "traceback": [
      "\u001b[0;31m---------------------------------------------------------------------------\u001b[0m",
      "\u001b[0;31mAttributeError\u001b[0m                            Traceback (most recent call last)",
      "\u001b[0;32m<ipython-input-9-5076eb872212>\u001b[0m in \u001b[0;36m<module>\u001b[0;34m\u001b[0m\n\u001b[1;32m     17\u001b[0m         \u001b[0mfile_num\u001b[0m \u001b[0;34m+=\u001b[0m \u001b[0;36m1000\u001b[0m\u001b[0;34m\u001b[0m\u001b[0;34m\u001b[0m\u001b[0m\n\u001b[1;32m     18\u001b[0m \u001b[0;34m\u001b[0m\u001b[0m\n\u001b[0;32m---> 19\u001b[0;31m \u001b[0mdatas\u001b[0m \u001b[0;34m=\u001b[0m \u001b[0mdata_saving\u001b[0m\u001b[0;34m(\u001b[0m\u001b[0mdatas\u001b[0m\u001b[0;34m,\u001b[0m \u001b[0;36m0\u001b[0m\u001b[0;34m)\u001b[0m\u001b[0;34m\u001b[0m\u001b[0;34m\u001b[0m\u001b[0m\n\u001b[0m",
      "\u001b[0;32m<ipython-input-8-b3e422a534fd>\u001b[0m in \u001b[0;36mdata_saving\u001b[0;34m(datas, file_num)\u001b[0m\n\u001b[1;32m      1\u001b[0m \u001b[0;32mdef\u001b[0m \u001b[0mdata_saving\u001b[0m\u001b[0;34m(\u001b[0m\u001b[0mdatas\u001b[0m\u001b[0;34m,\u001b[0m \u001b[0mfile_num\u001b[0m\u001b[0;34m)\u001b[0m\u001b[0;34m:\u001b[0m\u001b[0;34m\u001b[0m\u001b[0;34m\u001b[0m\u001b[0m\n\u001b[0;32m----> 2\u001b[0;31m     \u001b[0mdatas\u001b[0m\u001b[0;34m[\u001b[0m\u001b[0;36m0\u001b[0m\u001b[0;34m]\u001b[0m\u001b[0;34m,\u001b[0m \u001b[0mdatas\u001b[0m\u001b[0;34m[\u001b[0m\u001b[0;36m1\u001b[0m\u001b[0;34m]\u001b[0m\u001b[0;34m,\u001b[0m \u001b[0mdatas\u001b[0m\u001b[0;34m[\u001b[0m\u001b[0;36m2\u001b[0m\u001b[0;34m]\u001b[0m \u001b[0;34m=\u001b[0m \u001b[0mdata_cleaning\u001b[0m\u001b[0;34m(\u001b[0m\u001b[0mdatas\u001b[0m\u001b[0;34m[\u001b[0m\u001b[0;36m0\u001b[0m\u001b[0;34m]\u001b[0m\u001b[0;34m,\u001b[0m \u001b[0mdatas\u001b[0m\u001b[0;34m[\u001b[0m\u001b[0;36m1\u001b[0m\u001b[0;34m]\u001b[0m\u001b[0;34m,\u001b[0m \u001b[0mdatas\u001b[0m\u001b[0;34m[\u001b[0m\u001b[0;36m2\u001b[0m\u001b[0;34m]\u001b[0m\u001b[0;34m)\u001b[0m\u001b[0;34m\u001b[0m\u001b[0;34m\u001b[0m\u001b[0m\n\u001b[0m\u001b[1;32m      3\u001b[0m     \u001b[0;32mfor\u001b[0m \u001b[0mj\u001b[0m \u001b[0;32min\u001b[0m \u001b[0mrange\u001b[0m\u001b[0;34m(\u001b[0m\u001b[0;36m3\u001b[0m\u001b[0;34m)\u001b[0m\u001b[0;34m:\u001b[0m\u001b[0;34m\u001b[0m\u001b[0;34m\u001b[0m\u001b[0m\n\u001b[1;32m      4\u001b[0m         \u001b[0mdatas\u001b[0m\u001b[0;34m[\u001b[0m\u001b[0mj\u001b[0m\u001b[0;34m]\u001b[0m\u001b[0;34m.\u001b[0m\u001b[0mto_csv\u001b[0m\u001b[0;34m(\u001b[0m\u001b[0mpath_to\u001b[0m \u001b[0;34m+\u001b[0m \u001b[0mfiles\u001b[0m\u001b[0;34m[\u001b[0m\u001b[0mj\u001b[0m\u001b[0;34m]\u001b[0m \u001b[0;34m+\u001b[0m \u001b[0mstr\u001b[0m\u001b[0;34m(\u001b[0m\u001b[0mfile_num\u001b[0m\u001b[0;34m)\u001b[0m \u001b[0;34m+\u001b[0m \u001b[0;34m\".csv\"\u001b[0m\u001b[0;34m,\u001b[0m \u001b[0msep\u001b[0m\u001b[0;34m=\u001b[0m\u001b[0;34m';'\u001b[0m\u001b[0;34m,\u001b[0m \u001b[0mindex\u001b[0m\u001b[0;34m=\u001b[0m\u001b[0;32mFalse\u001b[0m\u001b[0;34m)\u001b[0m\u001b[0;34m\u001b[0m\u001b[0;34m\u001b[0m\u001b[0m\n\u001b[1;32m      5\u001b[0m \u001b[0;31m#     file_num += 1000\u001b[0m\u001b[0;34m\u001b[0m\u001b[0;34m\u001b[0m\u001b[0;34m\u001b[0m\u001b[0m\n",
      "\u001b[0;32m<ipython-input-7-56d0bbb6b6ca>\u001b[0m in \u001b[0;36mdata_cleaning\u001b[0;34m(dat1, dat2, dat3)\u001b[0m\n\u001b[1;32m      1\u001b[0m \u001b[0;32mdef\u001b[0m \u001b[0mdata_cleaning\u001b[0m\u001b[0;34m(\u001b[0m\u001b[0mdat1\u001b[0m\u001b[0;34m,\u001b[0m \u001b[0mdat2\u001b[0m\u001b[0;34m,\u001b[0m \u001b[0mdat3\u001b[0m\u001b[0;34m)\u001b[0m\u001b[0;34m:\u001b[0m\u001b[0;34m\u001b[0m\u001b[0;34m\u001b[0m\u001b[0m\n\u001b[1;32m      2\u001b[0m \u001b[0;31m#     print(path_to, file_num, 2)\u001b[0m\u001b[0;34m\u001b[0m\u001b[0;34m\u001b[0m\u001b[0;34m\u001b[0m\u001b[0m\n\u001b[0;32m----> 3\u001b[0;31m     \u001b[0mdat3\u001b[0m \u001b[0;34m=\u001b[0m \u001b[0mdat3\u001b[0m\u001b[0;34m.\u001b[0m\u001b[0mloc\u001b[0m\u001b[0;34m[\u001b[0m\u001b[0;34m(\u001b[0m\u001b[0mdat3\u001b[0m\u001b[0;34m[\u001b[0m\u001b[0;36m2\u001b[0m\u001b[0;34m]\u001b[0m\u001b[0;34m.\u001b[0m\u001b[0misnull\u001b[0m\u001b[0;34m(\u001b[0m\u001b[0;34m)\u001b[0m \u001b[0;34m==\u001b[0m \u001b[0;32mFalse\u001b[0m\u001b[0;34m)\u001b[0m \u001b[0;34m&\u001b[0m \u001b[0;34m(\u001b[0m\u001b[0mdat3\u001b[0m\u001b[0;34m[\u001b[0m\u001b[0;36m4\u001b[0m\u001b[0;34m]\u001b[0m\u001b[0;34m.\u001b[0m\u001b[0misnull\u001b[0m\u001b[0;34m(\u001b[0m\u001b[0;34m)\u001b[0m \u001b[0;34m==\u001b[0m \u001b[0;32mFalse\u001b[0m\u001b[0;34m)\u001b[0m \u001b[0;34m&\u001b[0m \u001b[0;34m(\u001b[0m\u001b[0mdat3\u001b[0m\u001b[0;34m[\u001b[0m\u001b[0;36m2\u001b[0m\u001b[0;34m]\u001b[0m \u001b[0;34m!=\u001b[0m \u001b[0;34m'3'\u001b[0m \u001b[0;34m)\u001b[0m \u001b[0;34m&\u001b[0m \u001b[0;34m(\u001b[0m\u001b[0mdat3\u001b[0m\u001b[0;34m[\u001b[0m\u001b[0;36m4\u001b[0m\u001b[0;34m]\u001b[0m \u001b[0;34m!=\u001b[0m \u001b[0;34m'Клас\\rнебезпеки'\u001b[0m\u001b[0;34m)\u001b[0m\u001b[0;34m]\u001b[0m\u001b[0;34m\u001b[0m\u001b[0;34m\u001b[0m\u001b[0m\n\u001b[0m\u001b[1;32m      4\u001b[0m     \u001b[0;32mfor\u001b[0m \u001b[0mi\u001b[0m \u001b[0;32min\u001b[0m \u001b[0mrange\u001b[0m\u001b[0;34m(\u001b[0m\u001b[0;36m12\u001b[0m\u001b[0;34m)\u001b[0m\u001b[0;34m:\u001b[0m\u001b[0;34m\u001b[0m\u001b[0;34m\u001b[0m\u001b[0m\n\u001b[1;32m      5\u001b[0m         \u001b[0mdat3\u001b[0m\u001b[0;34m[\u001b[0m\u001b[0mi\u001b[0m\u001b[0;34m]\u001b[0m \u001b[0;34m=\u001b[0m \u001b[0mdat3\u001b[0m\u001b[0;34m[\u001b[0m\u001b[0mi\u001b[0m\u001b[0;34m]\u001b[0m\u001b[0;34m.\u001b[0m\u001b[0mapply\u001b[0m\u001b[0;34m(\u001b[0m\u001b[0;32mlambda\u001b[0m \u001b[0mx\u001b[0m\u001b[0;34m:\u001b[0m \u001b[0mstr\u001b[0m\u001b[0;34m(\u001b[0m\u001b[0mx\u001b[0m\u001b[0;34m)\u001b[0m\u001b[0;34m.\u001b[0m\u001b[0mreplace\u001b[0m\u001b[0;34m(\u001b[0m\u001b[0;34m'\\r'\u001b[0m\u001b[0;34m,\u001b[0m \u001b[0;34m' '\u001b[0m\u001b[0;34m)\u001b[0m\u001b[0;34m)\u001b[0m\u001b[0;34m\u001b[0m\u001b[0;34m\u001b[0m\u001b[0m\n",
      "\u001b[0;31mAttributeError\u001b[0m: 'NoneType' object has no attribute 'loc'"
     ]
    }
   ],
   "source": [
    "datas = [None, None, None]\n",
    "# path_from = 'https://e-eco.gov.ua/parlor/applications/viewfile/id/' # in case we download on flight\n",
    "path_from = './declarations/' # where are downloaded declarations\n",
    "path_to = \"./dec/data/d2/\" # where we save files\n",
    "file_num = 41000 # file_num - 999 = starting file of our work => min file_num == 1000, and file_num % 1000 == 0\n",
    "files = [\"F\", \"S\", \"T\"]\n",
    "skipped = []\n",
    "min_range = file_num - 999\n",
    "max_range = 42001 # max range of files to \n",
    "\n",
    "for i in range(min_range, max_range):\n",
    "    if i % 100 == 0:\n",
    "        print('--', i)\n",
    "    datas[0], datas[1], datas[2] = parsing_table(path_from + str(i), datas[0], datas[1], datas[2], i)\n",
    "    if i % 1000 == 0:\n",
    "        datas = data_saving(datas, file_num)\n",
    "        file_num += 1000\n",
    "        \n",
    "datas = data_saving(datas, 0)"
   ]
  },
  {
   "cell_type": "code",
   "execution_count": 11,
   "metadata": {},
   "outputs": [
    {
     "name": "stdout",
     "output_type": "stream",
     "text": [
      "(108540, 3)\n",
      "(43416, 7)\n",
      "(189335, 13)\n"
     ]
    },
    {
     "name": "stderr",
     "output_type": "stream",
     "text": [
      "/home/roman/anaconda3/lib/python3.7/site-packages/IPython/core/interactiveshell.py:3020: DtypeWarning: Columns (5,7) have mixed types. Specify dtype option on import or set low_memory=False.\n",
      "  interactivity=interactivity, compiler=compiler, result=result)\n"
     ]
    }
   ],
   "source": [
    "print(pd.read_csv(\"./dec/data/fulls/Declarations_first_table.csv\", sep=';').shape)\n",
    "print(pd.read_csv(\"./dec/data/fulls/Declarations_second_table.csv\", sep=';').shape)\n",
    "print(pd.read_csv(\"./dec/data/fulls/Declarations_third_table.csv\", sep=';').shape)"
   ]
  },
  {
   "cell_type": "code",
   "execution_count": 12,
   "metadata": {},
   "outputs": [],
   "source": [
    "#join files into one csv file\n",
    "for f in files:\n",
    "    data1 = pd.read_csv(\"./dec/data/d2/\" + f + \"1000.csv\", sep=';')\n",
    "    for i in range(2000,43000,1000):\n",
    "        data2 = pd.read_csv(\"./dec/data/d2/\" + f + str(i) + \".csv\", sep=';')\n",
    "        data1 = pd.concat([data1,data2], ignore_index=True)\n",
    "    if f == 'F':\n",
    "        data1.to_csv(\"./dec/data/fulls/Declarations_first_table.csv\", sep=';', index=False)\n",
    "    elif f == 'S':\n",
    "        data1.to_csv(\"./dec/data/fulls/Declarations_second_table.csv\", sep=';', index=False)\n",
    "    elif f == 'T':\n",
    "        data1.to_csv(\"./dec/data/fulls/Declarations_third_table.csv\", sep=';', index=False)"
   ]
  },
  {
   "cell_type": "code",
   "execution_count": 13,
   "metadata": {},
   "outputs": [
    {
     "name": "stdout",
     "output_type": "stream",
     "text": [
      "(109630, 3)\n",
      "(43852, 7)\n",
      "(190915, 13)\n"
     ]
    }
   ],
   "source": [
    "print(pd.read_csv(\"./dec/data/fulls/Declarations_first_table.csv\", sep=';').shape)\n",
    "print(pd.read_csv(\"./dec/data/fulls/Declarations_second_table.csv\", sep=';').shape)\n",
    "print(pd.read_csv(\"./dec/data/fulls/Declarations_third_table.csv\", sep=';').shape)"
   ]
  },
  {
   "cell_type": "code",
   "execution_count": null,
   "metadata": {},
   "outputs": [],
   "source": []
  }
 ],
 "metadata": {
  "kernelspec": {
   "display_name": "Python 3",
   "language": "python",
   "name": "python3"
  },
  "language_info": {
   "codemirror_mode": {
    "name": "ipython",
    "version": 3
   },
   "file_extension": ".py",
   "mimetype": "text/x-python",
   "name": "python",
   "nbconvert_exporter": "python",
   "pygments_lexer": "ipython3",
   "version": "3.7.1"
  }
 },
 "nbformat": 4,
 "nbformat_minor": 2
}
